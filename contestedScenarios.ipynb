{
 "cells": [
  {
   "cell_type": "code",
   "execution_count": 273,
   "metadata": {},
   "outputs": [],
   "source": [
    "import pandas as pd\n",
    "import numpy as np\n",
    "import random\n",
    "import matplotlib.pyplot as plt\n",
    "\n",
    "UnitLevels = [1, 2, 3, 4, 5]\n",
    "UnitPool = [29, 22, 16, 12, 10]\n",
    "NumUnits = [12, 12, 12, 9, 7]\n",
    "totalPool = [29*12,22*12,16*12,9*12,7*10]\n",
    "\n",
    "UnitShopProbabilities = [[1.00, 0.00, 0.00, 0.00, 0.00],\n",
    "                         [1.00, 0.00, 0.00, 0.00, 0.00],\n",
    "                         [0.75, 0.25, 0.00, 0.00, 0.00],\n",
    "                         [0.60, 0.30, 0.10, 0.00, 0.00],\n",
    "                         [0.40, 0.35, 0.20, 0.05, 0.00],\n",
    "                         [0.25, 0.35, 0.30, 0.10, 0.00],\n",
    "                         [0.19, 0.30, 0.35, 0.15, 0.01],\n",
    "                         [0.14, 0.20, 0.35, 0.25, 0.06],\n",
    "                         [0.10, 0.15, 0.25, 0.35, 0.15]]"
   ]
  },
  {
   "cell_type": "code",
   "execution_count": 274,
   "metadata": {},
   "outputs": [],
   "source": [
    "def simulateNumShops(playerLevel, searchingForUnitLevel, unitStartCount, lookingFor, contested):\n",
    "    \n",
    "    \n",
    "    currentUnits = unitStartCount\n",
    "    numShopsSeen = 0\n",
    "    \n",
    "    selectedUnitProbabilities = UnitShopProbabilities[playerLevel-1]\n",
    "    selectedUnit = selectedUnitProbabilities[searchingForUnitLevel-1]\n",
    "    selectedUnitPool = UnitPool[searchingForUnitLevel - 1] - contested\n",
    "    selectedTotalPool = totalPool[searchingForUnitLevel - 1]\n",
    "\n",
    "    while currentUnits < lookingFor:\n",
    "        numShopsSeen += 1\n",
    "        count = 0\n",
    "        \n",
    "        for i in range(1,6):\n",
    "            if random.random() < selectedUnit:\n",
    "                count += 1\n",
    "        \n",
    "        for n in range(0,count):\n",
    "            remainingUnits =  selectedUnitPool - currentUnits\n",
    "            totalUnitPool = selectedTotalPool - currentUnits\n",
    "            probabilityOfHit = remainingUnits / totalUnitPool\n",
    "            \n",
    "            if random.random() < probabilityOfHit:\n",
    "                    currentUnits += 1\n",
    "\n",
    "    return numShopsSeen"
   ]
  },
  {
   "cell_type": "code",
   "execution_count": 275,
   "metadata": {},
   "outputs": [],
   "source": [
    "Iterations = 1000\n",
    "LookingFor = 9\n",
    "PlayerLevel = 5\n",
    "SearchingForUnitLevel = 1\n",
    "ncontested = [0,3,6,9,12,15,18]\n",
    "meanlist =[]\n",
    "\n",
    "\n",
    "def simulate(ncon):\n",
    "    means=[]\n",
    "    for row in range(0, 3):\n",
    "        for col in range(0, 3):\n",
    "            numShopsRequired = []\n",
    "            UnitStartCount = row * 3 + col\n",
    "            for n in range(Iterations):\n",
    "                numShopsRequired.append(simulateNumShops(PlayerLevel, SearchingForUnitLevel, UnitStartCount, LookingFor, ncon))\n",
    "            mean = np.mean(numShopsRequired)\n",
    "            std = np.std(numShopsRequired)\n",
    "            means.append(mean)\n",
    "    meanlist.append(means)\n",
    "    print(means)"
   ]
  },
  {
   "cell_type": "code",
   "execution_count": 276,
   "metadata": {},
   "outputs": [
    {
     "name": "stdout",
     "output_type": "stream",
     "text": [
      "[62.749, 56.546, 50.94, 44.386, 36.874, 31.215, 23.481, 16.259, 8.352]\n",
      "[70.753, 65.022, 58.699, 51.452, 44.265, 35.9, 26.964, 19.003, 9.607]\n",
      "[83.51, 75.002, 67.984, 60.451, 51.362, 41.416, 32.601, 21.674, 12.01]\n",
      "[99.798, 91.942, 82.126, 70.875, 60.863, 50.578, 40.563, 28.763, 14.721]\n",
      "[123.829, 112.447, 103.368, 90.623, 82.029, 64.989, 50.993, 36.875, 20.453]\n",
      "[168.776, 155.538, 141.945, 126.048, 110.302, 94.018, 73.032, 52.677, 29.243]\n",
      "[261.378, 243.955, 225.446, 210.006, 186.236, 164.449, 132.537, 98.786, 55.466]\n"
     ]
    }
   ],
   "source": [
    "for i in ncontested:\n",
    "    simulate(i)"
   ]
  },
  {
   "cell_type": "code",
   "execution_count": 277,
   "metadata": {},
   "outputs": [],
   "source": [
    "a = np.array(meanlist).T"
   ]
  },
  {
   "cell_type": "code",
   "execution_count": 278,
   "metadata": {},
   "outputs": [
    {
     "name": "stdout",
     "output_type": "stream",
     "text": [
      "[8, 12, 16, 24, 44, 92]\n",
      "[8, 9, 16, 20, 43, 88]\n",
      "[7, 9, 14, 21, 38, 83]\n",
      "[7, 8, 10, 19, 35, 83]\n",
      "[7, 7, 9, 21, 28, 75]\n",
      "[4, 5, 9, 14, 29, 70]\n",
      "[3, 5, 7, 10, 22, 59]\n",
      "[2, 2, 7, 8, 15, 46]\n",
      "[1, 2, 2, 5, 8, 26]\n"
     ]
    }
   ],
   "source": [
    "df = pd.DataFrame()\n",
    "\n",
    "for z,i in enumerate(a):\n",
    "    diff =[]\n",
    "    for n in range(0,6):\n",
    "        diff.append(int(i[n+1]-i[n]))\n",
    "    \n",
    "    print(diff)\n",
    "    df[z]= diff"
   ]
  },
  {
   "cell_type": "code",
   "execution_count": 279,
   "metadata": {},
   "outputs": [],
   "source": [
    "df[\"numContested\"]= [0,3,6,9,12,15]"
   ]
  },
  {
   "cell_type": "code",
   "execution_count": 280,
   "metadata": {},
   "outputs": [
    {
     "data": {
      "text/html": [
       "<div>\n",
       "<style scoped>\n",
       "    .dataframe tbody tr th:only-of-type {\n",
       "        vertical-align: middle;\n",
       "    }\n",
       "\n",
       "    .dataframe tbody tr th {\n",
       "        vertical-align: top;\n",
       "    }\n",
       "\n",
       "    .dataframe thead th {\n",
       "        text-align: right;\n",
       "    }\n",
       "</style>\n",
       "<table border=\"1\" class=\"dataframe\">\n",
       "  <thead>\n",
       "    <tr style=\"text-align: right;\">\n",
       "      <th></th>\n",
       "      <th>0</th>\n",
       "      <th>1</th>\n",
       "      <th>2</th>\n",
       "      <th>3</th>\n",
       "      <th>4</th>\n",
       "      <th>5</th>\n",
       "      <th>6</th>\n",
       "      <th>7</th>\n",
       "      <th>8</th>\n",
       "    </tr>\n",
       "    <tr>\n",
       "      <th>numContested</th>\n",
       "      <th></th>\n",
       "      <th></th>\n",
       "      <th></th>\n",
       "      <th></th>\n",
       "      <th></th>\n",
       "      <th></th>\n",
       "      <th></th>\n",
       "      <th></th>\n",
       "      <th></th>\n",
       "    </tr>\n",
       "  </thead>\n",
       "  <tbody>\n",
       "    <tr>\n",
       "      <th>0</th>\n",
       "      <td>8</td>\n",
       "      <td>8</td>\n",
       "      <td>7</td>\n",
       "      <td>7</td>\n",
       "      <td>7</td>\n",
       "      <td>4</td>\n",
       "      <td>3</td>\n",
       "      <td>2</td>\n",
       "      <td>1</td>\n",
       "    </tr>\n",
       "    <tr>\n",
       "      <th>3</th>\n",
       "      <td>12</td>\n",
       "      <td>9</td>\n",
       "      <td>9</td>\n",
       "      <td>8</td>\n",
       "      <td>7</td>\n",
       "      <td>5</td>\n",
       "      <td>5</td>\n",
       "      <td>2</td>\n",
       "      <td>2</td>\n",
       "    </tr>\n",
       "    <tr>\n",
       "      <th>6</th>\n",
       "      <td>16</td>\n",
       "      <td>16</td>\n",
       "      <td>14</td>\n",
       "      <td>10</td>\n",
       "      <td>9</td>\n",
       "      <td>9</td>\n",
       "      <td>7</td>\n",
       "      <td>7</td>\n",
       "      <td>2</td>\n",
       "    </tr>\n",
       "    <tr>\n",
       "      <th>9</th>\n",
       "      <td>24</td>\n",
       "      <td>20</td>\n",
       "      <td>21</td>\n",
       "      <td>19</td>\n",
       "      <td>21</td>\n",
       "      <td>14</td>\n",
       "      <td>10</td>\n",
       "      <td>8</td>\n",
       "      <td>5</td>\n",
       "    </tr>\n",
       "    <tr>\n",
       "      <th>12</th>\n",
       "      <td>44</td>\n",
       "      <td>43</td>\n",
       "      <td>38</td>\n",
       "      <td>35</td>\n",
       "      <td>28</td>\n",
       "      <td>29</td>\n",
       "      <td>22</td>\n",
       "      <td>15</td>\n",
       "      <td>8</td>\n",
       "    </tr>\n",
       "    <tr>\n",
       "      <th>15</th>\n",
       "      <td>92</td>\n",
       "      <td>88</td>\n",
       "      <td>83</td>\n",
       "      <td>83</td>\n",
       "      <td>75</td>\n",
       "      <td>70</td>\n",
       "      <td>59</td>\n",
       "      <td>46</td>\n",
       "      <td>26</td>\n",
       "    </tr>\n",
       "  </tbody>\n",
       "</table>\n",
       "</div>"
      ],
      "text/plain": [
       "               0   1   2   3   4   5   6   7   8\n",
       "numContested                                    \n",
       "0              8   8   7   7   7   4   3   2   1\n",
       "3             12   9   9   8   7   5   5   2   2\n",
       "6             16  16  14  10   9   9   7   7   2\n",
       "9             24  20  21  19  21  14  10   8   5\n",
       "12            44  43  38  35  28  29  22  15   8\n",
       "15            92  88  83  83  75  70  59  46  26"
      ]
     },
     "execution_count": 280,
     "metadata": {},
     "output_type": "execute_result"
    }
   ],
   "source": [
    "df.set_index(\"numContested\")"
   ]
  }
 ],
 "metadata": {
  "kernelspec": {
   "display_name": "Python 3",
   "language": "python",
   "name": "python3"
  },
  "language_info": {
   "codemirror_mode": {
    "name": "ipython",
    "version": 3
   },
   "file_extension": ".py",
   "mimetype": "text/x-python",
   "name": "python",
   "nbconvert_exporter": "python",
   "pygments_lexer": "ipython3",
   "version": "3.8.1"
  }
 },
 "nbformat": 4,
 "nbformat_minor": 4
}
